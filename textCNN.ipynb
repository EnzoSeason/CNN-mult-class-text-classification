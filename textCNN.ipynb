{
  "nbformat": 4,
  "nbformat_minor": 0,
  "metadata": {
    "colab": {
      "name": "textCNN.ipynb",
      "version": "0.3.2",
      "views": {},
      "default_view": {},
      "provenance": [],
      "collapsed_sections": []
    },
    "kernelspec": {
      "name": "python3",
      "display_name": "Python 3"
    },
    "accelerator": "GPU"
  },
  "cells": [
    {
      "metadata": {
        "id": "3JWzapEId-gW",
        "colab_type": "text"
      },
      "cell_type": "markdown",
      "source": [
        "# Text Classification with CNN"
      ]
    },
    {
      "metadata": {
        "id": "Be-WTokzeGcP",
        "colab_type": "code",
        "colab": {
          "autoexec": {
            "startup": false,
            "wait_interval": 0
          }
        }
      },
      "cell_type": "code",
      "source": [
        "import os\n",
        "import numpy as np\n",
        "import pandas as pd\n",
        "import tensorflow as tf"
      ],
      "execution_count": 0,
      "outputs": []
    },
    {
      "metadata": {
        "id": "1ZME5-N8Z8g_",
        "colab_type": "code",
        "colab": {
          "autoexec": {
            "startup": false,
            "wait_interval": 0
          },
          "base_uri": "https://localhost:8080/",
          "height": 51
        },
        "outputId": "c3da80dd-400a-4138-b216-0a196461e9b2",
        "executionInfo": {
          "status": "ok",
          "timestamp": 1528718335921,
          "user_tz": -120,
          "elapsed": 16728,
          "user": {
            "displayName": "刘济杰",
            "photoUrl": "https://lh3.googleusercontent.com/a/default-user=s128",
            "userId": "111050396948846225954"
          }
        }
      },
      "cell_type": "code",
      "source": [
        "# import data from URL\n",
        "# raw data size is 100 000\n",
        "DATA_URL = \"https://limportant.fr?page=export-csv&nb_lines=100000\"\n",
        "data_path = tf.keras.utils.get_file(fname=\"data_export_2018-06-01.csv\", origin=DATA_URL)"
      ],
      "execution_count": 3,
      "outputs": [
        {
          "output_type": "stream",
          "text": [
            "Downloading data from https://limportant.fr?page=export-csv&nb_lines=100000\n",
            "6709248/Unknown - 2s 0us/step"
          ],
          "name": "stdout"
        },
        {
          "output_type": "stream",
          "text": [
            "23175168/Unknown - 7s 0us/step"
          ],
          "name": "stdout"
        }
      ]
    },
    {
      "metadata": {
        "id": "7iemFSfBamzd",
        "colab_type": "code",
        "colab": {
          "autoexec": {
            "startup": false,
            "wait_interval": 0
          },
          "base_uri": "https://localhost:8080/",
          "height": 136
        },
        "outputId": "14830556-8722-4045-de50-883170111fb9",
        "executionInfo": {
          "status": "ok",
          "timestamp": 1528718557079,
          "user_tz": -120,
          "elapsed": 1256,
          "user": {
            "displayName": "刘济杰",
            "photoUrl": "https://lh3.googleusercontent.com/a/default-user=s128",
            "userId": "111050396948846225954"
          }
        }
      },
      "cell_type": "code",
      "source": [
        "\n",
        "CSV_COLUMN_NAMES = ['text','category_id']\n",
        "all_data = pd.read_csv(filepath_or_buffer=data_path, names=CSV_COLUMN_NAMES, header=0, engine='python')\n",
        "all_data.info()\n"
      ],
      "execution_count": 4,
      "outputs": [
        {
          "output_type": "stream",
          "text": [
            "<class 'pandas.core.frame.DataFrame'>\n",
            "RangeIndex: 100000 entries, 0 to 99999\n",
            "Data columns (total 2 columns):\n",
            "text           93737 non-null object\n",
            "category_id    100000 non-null int64\n",
            "dtypes: int64(1), object(1)\n",
            "memory usage: 1.5+ MB\n"
          ],
          "name": "stdout"
        }
      ]
    },
    {
      "metadata": {
        "id": "auipD-EoeQtr",
        "colab_type": "code",
        "colab": {
          "autoexec": {
            "startup": false,
            "wait_interval": 0
          }
        }
      },
      "cell_type": "code",
      "source": [
        "# drop the tweets with null text and the tweets of partenaires\n",
        "\n",
        "all_data.loc[all_data['category_id'] == 57, 'text'] = np.nan\n",
        "all_data.loc[all_data['category_id'] == 59, 'text'] = np.nan\n",
        "all_data.loc[all_data['category_id'] == 73, 'text'] = np.nan\n",
        "all_data.loc[all_data['category_id'] == 80, 'text'] = np.nan\n",
        "all_data.loc[all_data['category_id'] == 93, 'text'] = np.nan\n",
        "all_data.loc[all_data['category_id'] == 107, 'text'] = np.nan\n",
        "all_data.loc[all_data['category_id'] == 38, 'text'] = np.nan\n",
        "all_data.loc[all_data['category_id'] == 39, 'text'] = np.nan\n",
        "all_data.loc[all_data['category_id'] == 53, 'text'] = np.nan\n",
        "all_data.loc[all_data['category_id'] == 83, 'text'] = np.nan\n",
        "all_data.loc[all_data['category_id'] == 85, 'text'] = np.nan\n",
        "all_data.loc[all_data['category_id'] == 86, 'text'] = np.nan\n",
        "all_data.loc[all_data['category_id'] == 87, 'text'] = np.nan\n",
        "all_data.loc[all_data['category_id'] == 88, 'text'] = np.nan\n",
        "all_data.loc[all_data['category_id'] == 89, 'text'] = np.nan\n",
        "all_data.loc[all_data['category_id'] == 90, 'text'] = np.nan\n",
        "all_data.loc[all_data['category_id'] == 94, 'text'] = np.nan\n",
        "all_data.loc[all_data['category_id'] == 96, 'text'] = np.nan\n",
        "all_data.loc[all_data['category_id'] == 97, 'text'] = np.nan\n",
        "all_data.loc[all_data['category_id'] == 98, 'text'] = np.nan\n",
        "all_data.loc[all_data['category_id'] == 99, 'text'] = np.nan\n",
        "all_data.loc[all_data['category_id'] == 100, 'text'] = np.nan\n",
        "all_data.loc[all_data['category_id'] == 102, 'text'] = np.nan\n",
        "all_data.loc[all_data['category_id'] == 103, 'text'] = np.nan\n",
        "all_data.loc[all_data['category_id'] == 106, 'text'] = np.nan\n",
        "\n",
        "all_data.dropna(subset=['text'],inplace=True)"
      ],
      "execution_count": 0,
      "outputs": []
    },
    {
      "metadata": {
        "id": "E26ZIC8pfZ-z",
        "colab_type": "code",
        "colab": {
          "autoexec": {
            "startup": false,
            "wait_interval": 0
          }
        }
      },
      "cell_type": "code",
      "source": [
        "# tranform category_id into [0,12] \n",
        "\n",
        "all_data.loc[all_data['category_id'] == 50, 'category_id'] = 10\n",
        "all_data.loc[all_data['category_id'] == 56, 'category_id'] = 11\n",
        "all_data.loc[all_data['category_id'] == 69, 'category_id'] = 12\n",
        "all_data.loc[all_data['category_id'] == 101, 'category_id'] = 0"
      ],
      "execution_count": 0,
      "outputs": []
    },
    {
      "metadata": {
        "id": "ePt29vkUfcYq",
        "colab_type": "code",
        "colab": {
          "autoexec": {
            "startup": false,
            "wait_interval": 0
          },
          "base_uri": "https://localhost:8080/",
          "height": 389
        },
        "outputId": "5fca1bf1-ec67-412f-c3e2-85af2793fed9",
        "executionInfo": {
          "status": "ok",
          "timestamp": 1528718561156,
          "user_tz": -120,
          "elapsed": 633,
          "user": {
            "displayName": "刘济杰",
            "photoUrl": "https://lh3.googleusercontent.com/a/default-user=s128",
            "userId": "111050396948846225954"
          }
        }
      },
      "cell_type": "code",
      "source": [
        "# show the raw data\n",
        "import matplotlib.pyplot as plt\n",
        "fig = plt.figure(figsize=(8,6))\n",
        "all_data.groupby('category_id').text.count().plot.bar(ylim=0)\n",
        "plt.show()"
      ],
      "execution_count": 7,
      "outputs": [
        {
          "output_type": "display_data",
          "data": {
            "image/png": "[encoded data removed]",
            "text/plain": [
              "<matplotlib.figure.Figure at 0x7f976b0c6b38>"
            ]
          },
          "metadata": {
            "tags": []
          }
        }
      ]
    },
    {
      "metadata": {
        "id": "HsNXqqgBLlI4",
        "colab_type": "text"
      },
      "cell_type": "markdown",
      "source": [
        "- 0 : Trump\n",
        "- 1 : Politique\n",
        "- 2 : Economie\n",
        "- 3 : Monde\n",
        "- 4 : Régions\n",
        "- 5 : Santé\n",
        "- 6 : Culture\n",
        "- 7 : Tech\n",
        "- 8 : Sport\n",
        "- 9 : Société\n",
        "- 10 : Afrique\n",
        "- 11 : Planète\n",
        "- 12 : Moyen-orient "
      ]
    },
    {
      "metadata": {
        "id": "p3lSLyFwfeko",
        "colab_type": "code",
        "colab": {
          "autoexec": {
            "startup": false,
            "wait_interval": 0
          },
          "base_uri": "https://localhost:8080/",
          "height": 136
        },
        "outputId": "f107355f-9848-4a9a-b23b-ae6d19c8ac1b",
        "executionInfo": {
          "status": "ok",
          "timestamp": 1528718563123,
          "user_tz": -120,
          "elapsed": 539,
          "user": {
            "displayName": "刘济杰",
            "photoUrl": "https://lh3.googleusercontent.com/a/default-user=s128",
            "userId": "111050396948846225954"
          }
        }
      },
      "cell_type": "code",
      "source": [
        "\n",
        "all_data.info()"
      ],
      "execution_count": 8,
      "outputs": [
        {
          "output_type": "stream",
          "text": [
            "<class 'pandas.core.frame.DataFrame'>\n",
            "Int64Index: 87449 entries, 0 to 99998\n",
            "Data columns (total 2 columns):\n",
            "text           87449 non-null object\n",
            "category_id    87449 non-null int64\n",
            "dtypes: int64(1), object(1)\n",
            "memory usage: 2.0+ MB\n"
          ],
          "name": "stdout"
        }
      ]
    },
    {
      "metadata": {
        "id": "NQfReh9uftkX",
        "colab_type": "text"
      },
      "cell_type": "markdown",
      "source": [
        "## 1. Pre-processing the text"
      ]
    },
    {
      "metadata": {
        "id": "ifnG8C9If37f",
        "colab_type": "text"
      },
      "cell_type": "markdown",
      "source": [
        "### 1.1 Tokenize and get rid of stopwords"
      ]
    },
    {
      "metadata": {
        "id": "3Ep_Cdhcf_rD",
        "colab_type": "code",
        "colab": {
          "autoexec": {
            "startup": false,
            "wait_interval": 0
          },
          "base_uri": "https://localhost:8080/",
          "height": 71
        },
        "outputId": "55a9d8a3-2019-48da-def6-523597108bf1",
        "executionInfo": {
          "status": "ok",
          "timestamp": 1528718566189,
          "user_tz": -120,
          "elapsed": 1010,
          "user": {
            "displayName": "刘济杰",
            "photoUrl": "https://lh3.googleusercontent.com/a/default-user=s128",
            "userId": "111050396948846225954"
          }
        }
      },
      "cell_type": "code",
      "source": [
        "# tokenize and get rid of stopwords\n",
        "from nltk import RegexpTokenizer\n",
        "from nltk.corpus import stopwords\n",
        "import string\n",
        "\n",
        "\n",
        "text = 'Corée du Nord: une chaine pro-Kremlin trafique une photo de Kim Jong-un pour le faire sourire'\n",
        "\n",
        "stop = list(string.punctuation) + [\"«\", \"»\", \"“\", \"”\",\"’\"]\n",
        "toknizer = RegexpTokenizer(r'''\\'|\\w+|[^\\w\\s]''')\n",
        "print(toknizer.tokenize(text.strip().lower()))\n",
        "token = [i for i in toknizer.tokenize(text.strip().lower()) if i not in stop]\n",
        "str1 = ''.join(str(e)+' ' for e in token)\n",
        "print(str1)"
      ],
      "execution_count": 9,
      "outputs": [
        {
          "output_type": "stream",
          "text": [
            "['corée', 'du', 'nord', ':', 'une', 'chaine', 'pro', '-', 'kremlin', 'trafique', 'une', 'photo', 'de', 'kim', 'jong', '-', 'un', 'pour', 'le', 'faire', 'sourire']\n",
            "corée du nord une chaine pro kremlin trafique une photo de kim jong un pour le faire sourire \n"
          ],
          "name": "stdout"
        }
      ]
    },
    {
      "metadata": {
        "id": "X26GNdhQgCyc",
        "colab_type": "code",
        "colab": {
          "autoexec": {
            "startup": false,
            "wait_interval": 0
          },
          "base_uri": "https://localhost:8080/",
          "height": 204
        },
        "outputId": "c8dcc82d-4d1b-4f73-a92e-ac7f95d60916",
        "executionInfo": {
          "status": "ok",
          "timestamp": 1528718571980,
          "user_tz": -120,
          "elapsed": 5051,
          "user": {
            "displayName": "刘济杰",
            "photoUrl": "https://lh3.googleusercontent.com/a/default-user=s128",
            "userId": "111050396948846225954"
          }
        }
      },
      "cell_type": "code",
      "source": [
        "text_token = []\n",
        "\n",
        "for tweet in all_data['text']:\n",
        "  token = [i for i in toknizer.tokenize(tweet.strip().lower()) if i not in stop]\n",
        "  text = ''.join(str(e)+' ' for e in token)\n",
        "  text_token.append(text)\n",
        "  \n",
        "all_data['text_token'] = text_token\n",
        "all_data.head()"
      ],
      "execution_count": 10,
      "outputs": [
        {
          "output_type": "execute_result",
          "data": {
            "text/html": [
              "<div>\n",
              "<style scoped>\n",
              "    .dataframe tbody tr th:only-of-type {\n",
              "        vertical-align: middle;\n",
              "    }\n",
              "\n",
              "    .dataframe tbody tr th {\n",
              "        vertical-align: top;\n",
              "    }\n",
              "\n",
              "    .dataframe thead th {\n",
              "        text-align: right;\n",
              "    }\n",
              "</style>\n",
              "<table border=\"1\" class=\"dataframe\">\n",
              "  <thead>\n",
              "    <tr style=\"text-align: right;\">\n",
              "      <th></th>\n",
              "      <th>text</th>\n",
              "      <th>category_id</th>\n",
              "      <th>text_token</th>\n",
              "    </tr>\n",
              "  </thead>\n",
              "  <tbody>\n",
              "    <tr>\n",
              "      <th>0</th>\n",
              "      <td>Bertrand Cantat laisse entendre qu'il ne remon...</td>\n",
              "      <td>9</td>\n",
              "      <td>bertrand cantat laisse entendre qu il ne remon...</td>\n",
              "    </tr>\n",
              "    <tr>\n",
              "      <th>1</th>\n",
              "      <td>Pour ses 15 ans, la sonde Mars Express nous of...</td>\n",
              "      <td>11</td>\n",
              "      <td>pour ses 15 ans la sonde mars express nous off...</td>\n",
              "    </tr>\n",
              "    <tr>\n",
              "      <th>2</th>\n",
              "      <td>En Arabie saoudite, coup d'arrêt aux droits de...</td>\n",
              "      <td>12</td>\n",
              "      <td>en arabie saoudite coup d arrêt aux droits des...</td>\n",
              "    </tr>\n",
              "    <tr>\n",
              "      <th>4</th>\n",
              "      <td>Étude McKinsey : les femmes restent sous-repré...</td>\n",
              "      <td>9</td>\n",
              "      <td>étude mckinsey les femmes restent sous représe...</td>\n",
              "    </tr>\n",
              "    <tr>\n",
              "      <th>5</th>\n",
              "      <td>Cioran : «S’il y a quelqu’un qui doit tout à B...</td>\n",
              "      <td>6</td>\n",
              "      <td>cioran s il y a quelqu un qui doit tout à bach...</td>\n",
              "    </tr>\n",
              "  </tbody>\n",
              "</table>\n",
              "</div>"
            ],
            "text/plain": [
              "                                                text  category_id  \\\n",
              "0  Bertrand Cantat laisse entendre qu'il ne remon...            9   \n",
              "1  Pour ses 15 ans, la sonde Mars Express nous of...           11   \n",
              "2  En Arabie saoudite, coup d'arrêt aux droits de...           12   \n",
              "4  Étude McKinsey : les femmes restent sous-repré...            9   \n",
              "5  Cioran : «S’il y a quelqu’un qui doit tout à B...            6   \n",
              "\n",
              "                                          text_token  \n",
              "0  bertrand cantat laisse entendre qu il ne remon...  \n",
              "1  pour ses 15 ans la sonde mars express nous off...  \n",
              "2  en arabie saoudite coup d arrêt aux droits des...  \n",
              "4  étude mckinsey les femmes restent sous représe...  \n",
              "5  cioran s il y a quelqu un qui doit tout à bach...  "
            ]
          },
          "metadata": {
            "tags": []
          },
          "execution_count": 10
        }
      ]
    },
    {
      "metadata": {
        "id": "iKQ88ItzjDMH",
        "colab_type": "text"
      },
      "cell_type": "markdown",
      "source": [
        "## 2 CNN without word2vec"
      ]
    },
    {
      "metadata": {
        "id": "U5aNy-RbshpQ",
        "colab_type": "text"
      },
      "cell_type": "markdown",
      "source": [
        "### 2.1 Hyerparameter"
      ]
    },
    {
      "metadata": {
        "id": "GicXCdscsaZL",
        "colab_type": "code",
        "colab": {
          "autoexec": {
            "startup": false,
            "wait_interval": 0
          },
          "base_uri": "https://localhost:8080/",
          "height": 34
        },
        "outputId": "1dbac450-4f61-4b18-b764-42ee512c5550",
        "executionInfo": {
          "status": "ok",
          "timestamp": 1528719774169,
          "user_tz": -120,
          "elapsed": 781,
          "user": {
            "displayName": "刘济杰",
            "photoUrl": "https://lh3.googleusercontent.com/a/default-user=s128",
            "userId": "111050396948846225954"
          }
        }
      },
      "cell_type": "code",
      "source": [
        "MAX_SEQUENCE_LENGTH = max([len(x.split(\" \")) for x in all_data['text_token']])\n",
        "EMBEDDING_DIM = 500\n",
        "VALIDATION_SPLIT = 0.16\n",
        "TEST_SPLIT = 0.2\n",
        "print(MAX_SEQUENCE_LENGTH)"
      ],
      "execution_count": 35,
      "outputs": [
        {
          "output_type": "stream",
          "text": [
            "81\n"
          ],
          "name": "stdout"
        }
      ]
    },
    {
      "metadata": {
        "id": "_VeVqDzNtnTM",
        "colab_type": "text"
      },
      "cell_type": "markdown",
      "source": [
        "### 2.2 Creating features and label\n",
        "\n",
        "- Features : create a vocabulary, every word will have an index in vocabulary, and then we transform a text into a vector with indexs. We fix the length of each vector with MAX_SEQUENCE_LENGTH. We fill 0 into the place of no words.\n",
        "\n",
        "- Labels : we one-hot encode the category_id. For example, 1 -> [1,0,0], if we have 3 category_id (1,2,3)"
      ]
    },
    {
      "metadata": {
        "id": "xkxS-VKjswoa",
        "colab_type": "code",
        "colab": {
          "autoexec": {
            "startup": false,
            "wait_interval": 0
          },
          "base_uri": "https://localhost:8080/",
          "height": 68
        },
        "outputId": "18ac2781-592b-46cb-94c7-b4f3d7d55195",
        "executionInfo": {
          "status": "ok",
          "timestamp": 1528719788110,
          "user_tz": -120,
          "elapsed": 12386,
          "user": {
            "displayName": "刘济杰",
            "photoUrl": "https://lh3.googleusercontent.com/a/default-user=s128",
            "userId": "111050396948846225954"
          }
        }
      },
      "cell_type": "code",
      "source": [
        "from keras.preprocessing.text import Tokenizer\n",
        "from keras.preprocessing.sequence import pad_sequences\n",
        "from keras.utils import to_categorical\n",
        "import numpy as np\n",
        "\n",
        "tokenizer = Tokenizer()\n",
        "tokenizer.fit_on_texts(all_data['text_token'])\n",
        "sequences = tokenizer.texts_to_sequences(all_data['text_token'])\n",
        "word_index = tokenizer.word_index\n",
        "print('Found %s unique tokens.' % len(word_index))\n",
        "features = pad_sequences(sequences, maxlen=MAX_SEQUENCE_LENGTH)\n",
        "labels = to_categorical(np.asarray(all_data['category_id']))\n",
        "print('Shape of feature tensor:', features.shape)\n",
        "print('Shape of label tensor:', labels.shape)"
      ],
      "execution_count": 36,
      "outputs": [
        {
          "output_type": "stream",
          "text": [
            "Found 104731 unique tokens.\n",
            "Shape of feature tensor: (87449, 81)\n",
            "Shape of label tensor: (87449, 13)\n"
          ],
          "name": "stdout"
        }
      ]
    },
    {
      "metadata": {
        "id": "dXSCurmtwRYP",
        "colab_type": "text"
      },
      "cell_type": "markdown",
      "source": [
        "### 2.3 Spliting into train/test/validation set"
      ]
    },
    {
      "metadata": {
        "id": "XhEmHsEWwXOA",
        "colab_type": "code",
        "colab": {
          "autoexec": {
            "startup": false,
            "wait_interval": 0
          }
        }
      },
      "cell_type": "code",
      "source": [
        "# shuffle the dataset\n",
        "np.random.seed(10)\n",
        "shuffle_indices = np.random.permutation(np.arange(len(all_data['text'])))\n",
        "x_shuffled = features[shuffle_indices]\n",
        "y_shuffled = labels[shuffle_indices]"
      ],
      "execution_count": 0,
      "outputs": []
    },
    {
      "metadata": {
        "id": "CScTeSBVwwuM",
        "colab_type": "code",
        "colab": {
          "autoexec": {
            "startup": false,
            "wait_interval": 0
          },
          "base_uri": "https://localhost:8080/",
          "height": 68
        },
        "outputId": "1d87486d-4d14-44b7-e647-3d66c2374ca0",
        "executionInfo": {
          "status": "ok",
          "timestamp": 1528719792883,
          "user_tz": -120,
          "elapsed": 569,
          "user": {
            "displayName": "刘济杰",
            "photoUrl": "https://lh3.googleusercontent.com/a/default-user=s128",
            "userId": "111050396948846225954"
          }
        }
      },
      "cell_type": "code",
      "source": [
        "p1 = int(len(all_data['text'])*(1-VALIDATION_SPLIT-TEST_SPLIT))\n",
        "p2 = int(len(all_data['text'])*(1-TEST_SPLIT))\n",
        "x_train = x_shuffled[:p1]\n",
        "y_train = y_shuffled[:p1]\n",
        "x_val = x_shuffled[p1:p2]\n",
        "y_val = y_shuffled[p1:p2]\n",
        "x_test = x_shuffled[p2:]\n",
        "y_test = y_shuffled[p2:]\n",
        "print ('train docs: {}'.format(len(x_train)))\n",
        "print ('val docs: {}'.format(len(x_val)))\n",
        "print ('test docs: {}'.format(len(x_test)))"
      ],
      "execution_count": 38,
      "outputs": [
        {
          "output_type": "stream",
          "text": [
            "train docs: 55967\n",
            "val docs: 13992\n",
            "test docs: 17490\n"
          ],
          "name": "stdout"
        }
      ]
    },
    {
      "metadata": {
        "id": "mFBChlooydYr",
        "colab_type": "text"
      },
      "cell_type": "markdown",
      "source": [
        "### 2.3 Modeling"
      ]
    },
    {
      "metadata": {
        "id": "oUwBuTlyy7F2",
        "colab_type": "text"
      },
      "cell_type": "markdown",
      "source": [
        "> In our model, there are 7 layers\n",
        "\n",
        "> **[ batch_size, In_height, In_width, channels ]** is the tensor of each layer. 81 is MAX_SEQUENCE_LENGTH\n",
        "\n",
        "0. Input layer: batch_size of texts. **[ batch_size, 81, 1, 1 ]**. \n",
        "\n",
        "1. Embedding: we drop 104706 dimension down to 200 dimension ramdomly. (after, we will improve it with word2vec). Now, we can describe a text in 200 dimension. **[ batch_size, 81, Embedding_dim, 1 ]** \n",
        "\n",
        "2. Dropout: we drop out 20% data for avoiding overfiting. **[ batch_size, 81, Embedding_dim, 1 ]**\n",
        "\n",
        "3. Covolution: we use num_filtres of  **[ 3, 81 ]** filtres to convolue the Input. **[ batch_size, 79, 1, num_filtres ]**\n",
        "\n",
        "4. MaxPooling: we pick the biggest number in three numbers to avoiding overfitting. **[ batch_size, 26, 1, num_filtres ]**\n",
        "\n",
        "5. Full-connected: we flatten the channels into one channel, and set the number which is <=0 into 0.  **[ batch_size, 26 * num_filtres 1, 1 ]**\n",
        "\n",
        "6. Full-connected:: we drop into 13 dimension, which represente 13 categories. **[ batch_size, 13, 1, 1 ]**\n",
        "\n",
        "7. Softmax: we show the probability of the text in each categories"
      ]
    },
    {
      "metadata": {
        "id": "L-ELapoMxyp3",
        "colab_type": "code",
        "colab": {
          "autoexec": {
            "startup": false,
            "wait_interval": 0
          },
          "base_uri": "https://localhost:8080/",
          "height": 374
        },
        "outputId": "9e3bd4e7-6307-4854-96c6-ecd61ec54f97",
        "executionInfo": {
          "status": "ok",
          "timestamp": 1528719796612,
          "user_tz": -120,
          "elapsed": 446,
          "user": {
            "displayName": "刘济杰",
            "photoUrl": "https://lh3.googleusercontent.com/a/default-user=s128",
            "userId": "111050396948846225954"
          }
        }
      },
      "cell_type": "code",
      "source": [
        "from keras.layers import Dense, Input, Flatten, Dropout\n",
        "from keras.layers import Conv1D, MaxPooling1D, Embedding\n",
        "from keras.models import Sequential\n",
        "\n",
        "model = Sequential()\n",
        "model.add(Embedding(len(word_index) + 1, EMBEDDING_DIM, input_length=MAX_SEQUENCE_LENGTH))\n",
        "model.add(Dropout(0.2))\n",
        "model.add(Conv1D(400, 3, padding='valid', activation='relu', strides=1))\n",
        "model.add(MaxPooling1D(3))\n",
        "model.add(Flatten())\n",
        "model.add(Dense(EMBEDDING_DIM, activation='relu'))\n",
        "model.add(Dense(labels.shape[1], activation='softmax'))\n",
        "model.summary()"
      ],
      "execution_count": 39,
      "outputs": [
        {
          "output_type": "stream",
          "text": [
            "_________________________________________________________________\n",
            "Layer (type)                 Output Shape              Param #   \n",
            "=================================================================\n",
            "embedding_4 (Embedding)      (None, 81, 500)           52366000  \n",
            "_________________________________________________________________\n",
            "dropout_4 (Dropout)          (None, 81, 500)           0         \n",
            "_________________________________________________________________\n",
            "conv1d_4 (Conv1D)            (None, 79, 400)           600400    \n",
            "_________________________________________________________________\n",
            "max_pooling1d_4 (MaxPooling1 (None, 26, 400)           0         \n",
            "_________________________________________________________________\n",
            "flatten_4 (Flatten)          (None, 10400)             0         \n",
            "_________________________________________________________________\n",
            "dense_7 (Dense)              (None, 500)               5200500   \n",
            "_________________________________________________________________\n",
            "dense_8 (Dense)              (None, 13)                6513      \n",
            "=================================================================\n",
            "Total params: 58,173,413\n",
            "Trainable params: 58,173,413\n",
            "Non-trainable params: 0\n",
            "_________________________________________________________________\n"
          ],
          "name": "stdout"
        }
      ]
    },
    {
      "metadata": {
        "id": "olq3TnUlAyuw",
        "colab_type": "text"
      },
      "cell_type": "markdown",
      "source": [
        "### 2.4 Training"
      ]
    },
    {
      "metadata": {
        "id": "1bQTjTwy_kyw",
        "colab_type": "code",
        "colab": {
          "autoexec": {
            "startup": false,
            "wait_interval": 0
          },
          "base_uri": "https://localhost:8080/",
          "height": 190
        },
        "outputId": "93570ca4-cec3-4446-97bb-115a283609ae",
        "executionInfo": {
          "status": "ok",
          "timestamp": 1528719930605,
          "user_tz": -120,
          "elapsed": 128448,
          "user": {
            "displayName": "刘济杰",
            "photoUrl": "https://lh3.googleusercontent.com/a/default-user=s128",
            "userId": "111050396948846225954"
          }
        }
      },
      "cell_type": "code",
      "source": [
        "model.compile(loss='categorical_crossentropy',\n",
        "              optimizer='rmsprop',\n",
        "              metrics=['acc'])\n",
        "model.fit(x_train, y_train, validation_data=(x_val, y_val), epochs=3, batch_size=128)\n",
        "model.save('cnn_simple.h5')\n",
        "print (model.evaluate(x_test, y_test))"
      ],
      "execution_count": 40,
      "outputs": [
        {
          "output_type": "stream",
          "text": [
            "Train on 55967 samples, validate on 13992 samples\n",
            "Epoch 1/3\n",
            "55967/55967 [==============================] - 41s 735us/step - loss: 1.4847 - acc: 0.5228 - val_loss: 1.0105 - val_acc: 0.6851\n",
            "Epoch 2/3\n",
            "16640/55967 [=======>......................] - ETA: 27s - loss: 0.6600 - acc: 0.7926"
          ],
          "name": "stdout"
        },
        {
          "output_type": "stream",
          "text": [
            "55967/55967 [==============================] - 40s 722us/step - loss: 0.6804 - acc: 0.7831 - val_loss: 0.9354 - val_acc: 0.7114\n",
            "Epoch 3/3\n",
            "42624/55967 [=====================>........] - ETA: 9s - loss: 0.3883 - acc: 0.8736"
          ],
          "name": "stdout"
        },
        {
          "output_type": "stream",
          "text": [
            "55967/55967 [==============================] - 40s 721us/step - loss: 0.3991 - acc: 0.8700 - val_loss: 1.0404 - val_acc: 0.6999\n",
            "17490/17490 [==============================] - 3s 181us/step\n",
            "[1.0169708002765496, 0.7024013722263247]\n"
          ],
          "name": "stdout"
        }
      ]
    },
    {
      "metadata": {
        "id": "NRwfK8HrEB2C",
        "colab_type": "text"
      },
      "cell_type": "markdown",
      "source": [
        "### 3. Prediction"
      ]
    },
    {
      "metadata": {
        "id": "uDs1HiwLCjpA",
        "colab_type": "text"
      },
      "cell_type": "markdown",
      "source": [
        "### 3.1 Get the raw prediction"
      ]
    },
    {
      "metadata": {
        "id": "1_mxxvbGEOfW",
        "colab_type": "code",
        "colab": {
          "autoexec": {
            "startup": false,
            "wait_interval": 0
          },
          "base_uri": "https://localhost:8080/",
          "height": 88
        },
        "outputId": "452b7c5b-6116-40a6-deaf-3ee38ea5a595",
        "executionInfo": {
          "status": "ok",
          "timestamp": 1528719944361,
          "user_tz": -120,
          "elapsed": 479,
          "user": {
            "displayName": "刘济杰",
            "photoUrl": "https://lh3.googleusercontent.com/a/default-user=s128",
            "userId": "111050396948846225954"
          }
        }
      },
      "cell_type": "code",
      "source": [
        "tweet = \"Âgé de 80 000 ans : cet arbre se renouvelle grâce aux racines le liant aux autres troncs\"\n",
        "token = [i for i in toknizer.tokenize(tweet.strip().lower()) if i not in stop]\n",
        "text = ''.join(str(e)+' ' for e in token)\n",
        "print(text)\n",
        "sequences = tokenizer.texts_to_sequences([text])\n",
        "test = pad_sequences(sequences, maxlen=MAX_SEQUENCE_LENGTH)\n",
        "\n",
        "predict = model.predict(test)\n",
        "score = predict[0].tolist()\n",
        "print(score.index(max(score)))\n",
        "print(score)\n",
        "\n"
      ],
      "execution_count": 41,
      "outputs": [
        {
          "output_type": "stream",
          "text": [
            "âgé de 80 000 ans cet arbre se renouvelle grâce aux racines le liant aux autres troncs \n",
            "11\n",
            "[0.0006332632037810981, 0.0033158445730805397, 0.03901057317852974, 0.008873432874679565, 0.04070765897631645, 0.21666322648525238, 0.031154023483395576, 0.044108808040618896, 0.0013998107751831412, 0.07540527731180191, 0.0019363416358828545, 0.5361000895500183, 0.0006916325655765831]\n"
          ],
          "name": "stdout"
        }
      ]
    },
    {
      "metadata": {
        "id": "arQbzksXCpeo",
        "colab_type": "text"
      },
      "cell_type": "markdown",
      "source": [
        "### 3.2 Create a recommended list"
      ]
    },
    {
      "metadata": {
        "id": "PP9hWKFdCugD",
        "colab_type": "code",
        "colab": {
          "autoexec": {
            "startup": false,
            "wait_interval": 0
          },
          "base_uri": "https://localhost:8080/",
          "height": 51
        },
        "outputId": "004fa129-723f-40b6-b2c7-f6bb4432878f",
        "executionInfo": {
          "status": "ok",
          "timestamp": 1528726166478,
          "user_tz": -120,
          "elapsed": 496,
          "user": {
            "displayName": "刘济杰",
            "photoUrl": "https://lh3.googleusercontent.com/a/default-user=s128",
            "userId": "111050396948846225954"
          }
        }
      },
      "cell_type": "code",
      "source": [
        "category_label = [i for i in range(13)]\n",
        "d_raw = dict(zip(score, category_label))\n",
        "items = d_raw.items()\n",
        "d = sorted(items, reverse=True)\n",
        "recommended_list_raw = [i[1] for i in d]\n",
        "print(recommended_list_raw)\n",
        "recommended_list = []\n",
        "for i in range(13):\n",
        "  category_id = recommended_list_raw[i]\n",
        "  if (recommended_list_raw[i] == 0):\n",
        "    category_id = 101\n",
        "  if (recommended_list_raw[i] == 10):\n",
        "    category_id = 50\n",
        "  if (recommended_list_raw[i] == 11):\n",
        "    category_id = 56\n",
        "  if (recommended_list_raw[i] == 12):\n",
        "    category_id = 69\n",
        "  recommended_list.append(category_id)\n",
        "print(recommended_list)\n"
      ],
      "execution_count": 87,
      "outputs": [
        {
          "output_type": "stream",
          "text": [
            "[11, 5, 9, 7, 4, 2, 6, 3, 1, 10, 8, 12, 0]\n",
            "[56, 5, 9, 7, 4, 2, 6, 3, 1, 50, 8, 69, 101]\n"
          ],
          "name": "stdout"
        }
      ]
    },
    {
      "metadata": {
        "id": "tUuTv_xUCfUZ",
        "colab_type": "text"
      },
      "cell_type": "markdown",
      "source": [
        "## 3. Exporting the model"
      ]
    },
    {
      "metadata": {
        "id": "zWA2cDBG0H_v",
        "colab_type": "text"
      },
      "cell_type": "markdown",
      "source": [
        "### 3.1 Unload model to Google Drive"
      ]
    },
    {
      "metadata": {
        "id": "8LP6O-Flz-dz",
        "colab_type": "code",
        "colab": {
          "autoexec": {
            "startup": false,
            "wait_interval": 0
          }
        }
      },
      "cell_type": "code",
      "source": [
        "# Install the PyDrive wrapper & import libraries.\n",
        "# This only needs to be done once in a notebook.\n",
        "!pip install -U -q PyDrive\n",
        "from pydrive.auth import GoogleAuth\n",
        "from pydrive.drive import GoogleDrive\n",
        "from google.colab import auth\n",
        "from oauth2client.client import GoogleCredentials\n",
        "\n",
        "# Authenticate and create the PyDrive client.\n",
        "# This only needs to be done once in a notebook.\n",
        "auth.authenticate_user()\n",
        "gauth = GoogleAuth()\n",
        "gauth.credentials = GoogleCredentials.get_application_default()\n",
        "drive = GoogleDrive(gauth)\n",
        "\n",
        "# Create & upload a file.\n",
        "uploaded = drive.CreateFile({'title': 'cnn_simple.h5'})\n",
        "uploaded.SetContentFile('cnn_simple.h5')\n",
        "uploaded.Upload()"
      ],
      "execution_count": 0,
      "outputs": []
    },
    {
      "metadata": {
        "id": "_zdq7WR72oyE",
        "colab_type": "text"
      },
      "cell_type": "markdown",
      "source": [
        "### 3.1 Download Tokenizer"
      ]
    },
    {
      "metadata": {
        "id": "YZrKqnKd0S2A",
        "colab_type": "code",
        "colab": {
          "autoexec": {
            "startup": false,
            "wait_interval": 0
          }
        }
      },
      "cell_type": "code",
      "source": [
        "import pickle\n",
        "from google.colab import files \n",
        "\n",
        "save_tokenizer = open(\"tokenizer.pickle\", 'wb')\n",
        "pickle.dump(tokenizer, save_tokenizer)\n",
        "save_tokenizer.close()\n",
        "\n",
        "files.download('tokenizer.pickle')"
      ],
      "execution_count": 0,
      "outputs": []
    }
  ]
}